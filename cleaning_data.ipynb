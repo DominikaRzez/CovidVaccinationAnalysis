{
 "cells": [
  {
   "cell_type": "code",
   "execution_count": null,
   "id": "64ba2337",
   "metadata": {},
   "outputs": [],
   "source": [
    "#Adding dependecies\n",
    "import pandas as pd\n",
    "import matplotlib.pyplot as plt\n",
    "import numpy as np\n",
    "from config import g_key\n",
    "import pycountry\n",
    "import requests\n",
    "import json\n",
    "import gmaps\n",
    "import gmaps.geojson_geometries"
   ]
  },
  {
   "cell_type": "code",
   "execution_count": null,
   "id": "c38862eb",
   "metadata": {},
   "outputs": [],
   "source": [
    "#importing data set\n",
    "covid_data=pd.read_csv(\"data/country_vaccinations.csv\")\n",
    "covid_data.head()"
   ]
  },
  {
   "cell_type": "code",
   "execution_count": null,
   "id": "869ef7f7",
   "metadata": {},
   "outputs": [],
   "source": [
    "# % of population in the data set is presented up to date\n",
    "#finding last value for each country, to find the most update value\n",
    "population_vacc=covid_data[[\"country\",\"people_fully_vaccinated_per_hundred\"]].drop_duplicates(subset=['country'], keep=\"last\")\n",
    "population_vacc.head()"
   ]
  },
  {
   "cell_type": "code",
   "execution_count": null,
   "id": "67272164",
   "metadata": {},
   "outputs": [],
   "source": [
    "#calulacting the sum of all people fully vaccinated in each country\n",
    "fully_vacc=covid_data[[\"country\",\"people_fully_vaccinated\"]].drop_duplicates(subset=['country'], keep=\"last\")\n",
    "fully_vacc.head()"
   ]
  },
  {
   "cell_type": "code",
   "execution_count": null,
   "id": "6ba73c3b",
   "metadata": {},
   "outputs": [],
   "source": [
    "country_name=covid_data[\"country\"].unique()\n",
    "iso_code=covid_data[\"iso_code\"].unique()\n",
    "#Creating new data frame\n",
    "countries_summary=pd.DataFrame({\"Country\":country_name,\n",
    "                                \"ISO code\": iso_code,\n",
    "                              \"Population vaccinated\":population_vacc[\"people_fully_vaccinated_per_hundred\"]})\n",
    "countries_summary[\"Number of people fully vaccinated\"]=fully_vacc[\"people_fully_vaccinated\"]\n",
    "countries_summary.to_csv(\"Worldwide_vaccination_summary.csv\", index=False, header=True)\n",
    "countries_summary.head()"
   ]
  }
 ],
 "metadata": {
  "kernelspec": {
   "display_name": "Python 3",
   "language": "python",
   "name": "python3"
  },
  "language_info": {
   "codemirror_mode": {
    "name": "ipython",
    "version": 3
   },
   "file_extension": ".py",
   "mimetype": "text/x-python",
   "name": "python",
   "nbconvert_exporter": "python",
   "pygments_lexer": "ipython3",
   "version": "3.8.8"
  }
 },
 "nbformat": 4,
 "nbformat_minor": 5
}
