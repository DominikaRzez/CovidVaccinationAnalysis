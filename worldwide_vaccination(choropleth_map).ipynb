{
 "cells": [
  {
   "cell_type": "code",
   "execution_count": null,
   "id": "64ba2337",
   "metadata": {},
   "outputs": [],
   "source": [
    "#Adding dependecies\n",
    "import pandas as pd\n",
    "import geopandas as gpd\n",
    "import json"
   ]
  },
  {
   "cell_type": "code",
   "execution_count": null,
   "id": "c38862eb",
   "metadata": {},
   "outputs": [],
   "source": [
    "#importing data set\n",
    "covid_data=pd.read_csv(\"data/country_vaccinations.csv\")\n",
    "covid_data.head()"
   ]
  },
  {
   "cell_type": "code",
   "execution_count": null,
   "id": "869ef7f7",
   "metadata": {},
   "outputs": [],
   "source": [
    "# % of population in the data set is presented up to date\n",
    "#finding last value for each country, to find the most update value\n",
    "population_vacc=covid_data[[\"country\",\"people_fully_vaccinated_per_hundred\"]].drop_duplicates(subset=['country'], keep=\"last\")\n",
    "population_vacc.head()"
   ]
  },
  {
   "cell_type": "code",
   "execution_count": null,
   "id": "67272164",
   "metadata": {},
   "outputs": [],
   "source": [
    "#calulacting the sum of all people fully vaccinated in each country\n",
    "fully_vacc=covid_data[[\"country\",\"people_fully_vaccinated\"]].drop_duplicates(subset=['country'], keep=\"last\")\n",
    "fully_vacc.head()"
   ]
  },
  {
   "cell_type": "code",
   "execution_count": null,
   "id": "6ba73c3b",
   "metadata": {},
   "outputs": [],
   "source": [
    "country_name=covid_data[\"country\"].unique()\n",
    "iso_code=covid_data[\"iso_code\"].unique()\n",
    "#Creating new data frame\n",
    "countries_summary=pd.DataFrame({\"Country\":country_name,\n",
    "                                \"ISO code\": iso_code,\n",
    "                              \"Population vaccinated\":population_vacc[\"people_fully_vaccinated_per_hundred\"]})\n",
    "countries_summary[\"Number of people fully vaccinated\"]=fully_vacc[\"people_fully_vaccinated\"]\n",
    "countries_summary.to_csv(\"output/Worldwide_vaccination_summary.csv\", index=False, header=True)\n",
    "countries_summary.head()"
   ]
  },
  {
   "cell_type": "code",
   "execution_count": null,
   "id": "cb708121",
   "metadata": {},
   "outputs": [],
   "source": [
    "#from UK_Kenya_Analysis file collecting information of people fully vaccinated in UK\n",
    "final_vacc_number_uk=31449915.0\n",
    "#from kenya_analysis file collecting number of uk population\n",
    "uk_population=68391673\n",
    "population_vacc_uk = (final_vacc_number_uk/uk_population)*100\n",
    "uk_data={\"Country\":\"UK\",\n",
    "        \"ISO code\": \"Nan\",\n",
    "        \"Population vaccinated\":population_vacc_uk,\n",
    "        \"Number of people fully vaccinated\":final_vacc_number_uk}\n",
    "countries_summary.append(uk_data,  ignore_index=True)"
   ]
  },
  {
   "cell_type": "code",
   "execution_count": null,
   "id": "98a6445d",
   "metadata": {},
   "outputs": [],
   "source": [
    "#identifying the country with the highest percentaged of population fully vaccinated\n",
    "descending=countries_summary.sort_values(by=[\"Population vaccinated\"], ascending=False)\n",
    "descending"
   ]
  },
  {
   "cell_type": "code",
   "execution_count": null,
   "id": "8d9ca765",
   "metadata": {},
   "outputs": [],
   "source": [
    "#identifying the country with the lowest percentaged of population fully vaccinated\n",
    "countries_summary.sort_values(by=[\"Population vaccinated\"])"
   ]
  },
  {
   "cell_type": "code",
   "execution_count": null,
   "id": "568187f7",
   "metadata": {},
   "outputs": [],
   "source": [
    "countries_summary.loc[countries_summary[\"Country\"]==\"United Kingdom\"]"
   ]
  },
  {
   "cell_type": "code",
   "execution_count": null,
   "id": "c16020dc",
   "metadata": {},
   "outputs": [],
   "source": [
    "countries_summary.loc[countries_summary[\"Country\"]==\"Kenya\"]"
   ]
  },
  {
   "cell_type": "code",
   "execution_count": null,
   "id": "d464ae7a",
   "metadata": {},
   "outputs": [],
   "source": [
    "shapefile = 'data/shape_file/ne_110m_admin_0_countries.shp'\n",
    "#Read shapefile using Geopandas\n",
    "gdf = gpd.read_file(shapefile)[['ADMIN', 'ADM0_A3', 'geometry']]\n",
    "#Rename columns.\n",
    "gdf.columns = ['country', 'country_code', 'geometry']\n",
    "gdf.head()"
   ]
  },
  {
   "cell_type": "code",
   "execution_count": null,
   "id": "e7aba247",
   "metadata": {},
   "outputs": [],
   "source": [
    "countries_summary.info()\n",
    "countries_summary[countries_summary['ISO code'].isnull()]"
   ]
  },
  {
   "cell_type": "code",
   "execution_count": null,
   "id": "912875af",
   "metadata": {},
   "outputs": [],
   "source": [
    "#Merge dataframes gdf and df_vacc\n",
    "merged = gdf.merge(countries_summary, left_on = 'country_code', right_on = 'ISO code')"
   ]
  },
  {
   "cell_type": "code",
   "execution_count": null,
   "id": "f16b0c77",
   "metadata": {},
   "outputs": [],
   "source": [
    "#Read data to json.\n",
    "merged_json = json.loads(merged.to_json())\n",
    "#Convert to String like object.\n",
    "json_data = json.dumps(merged_json)"
   ]
  },
  {
   "cell_type": "code",
   "execution_count": null,
   "id": "5aec4002",
   "metadata": {},
   "outputs": [],
   "source": [
    "from bokeh.io import output_notebook\n",
    "output_notebook()"
   ]
  },
  {
   "cell_type": "code",
   "execution_count": null,
   "id": "ac3155f4",
   "metadata": {},
   "outputs": [],
   "source": [
    "from bokeh.io import output_notebook, show, output_file\n",
    "from bokeh.plotting import figure\n",
    "from bokeh.models import GeoJSONDataSource, LinearColorMapper, ColorBar\n",
    "from bokeh.palettes import brewer\n",
    "#Input GeoJSON source that contains features for plotting.\n",
    "geosource = GeoJSONDataSource(geojson = json_data)\n",
    "\n",
    "#Define a sequential multi-hue color palette.\n",
    "palette = brewer['YlGnBu'][9]\n",
    "\n",
    "#Reverse color order so that dark blue is highest vaccination percentage.\n",
    "palette = palette[::-1]\n",
    "\n",
    "#Instantiate LinearColorMapper that linearly maps numbers in a range, into a sequence of colors.\n",
    "color_mapper = LinearColorMapper(palette = palette, low = 0, high = 40)\n",
    "\n",
    "#Define custom tick labels for color bar.\n",
    "tick_labels = tick_labels = {'0': '0%', '5': '5%', '10':'10%', '15':'15%', '20':'20%', '25':'25%', '30':'30%','35':'35%', '40': '45','45':'50','50':'>50%'}\n",
    "\n",
    "#Create color bar. \n",
    "color_bar = ColorBar(color_mapper=color_mapper, label_standoff=8,width = 500, height = 20,\n",
    "border_line_color=None,location = (0,0), orientation = 'horizontal', major_label_overrides = tick_labels)\n",
    "#Create figure object.\n",
    "p = figure(title = 'Share of people fully vaccinated', plot_height = 600 , plot_width = 950, toolbar_location = None)\n",
    "p.xgrid.grid_line_color = None\n",
    "p.ygrid.grid_line_color = None\n",
    "#Add patch renderer to figure. \n",
    "p.patches('xs','ys', source = geosource,fill_color = {'field' :'Population vaccinated', 'transform' : color_mapper},\n",
    "          line_color = 'black', line_width = 0.25, fill_alpha = 1)\n",
    "#Specify figure layout.\n",
    "p.add_layout(color_bar, 'below')\n",
    "#Display figure inline in Jupyter Notebook.\n",
    "output_notebook()\n",
    "#Display figure.\n",
    "show(p)"
   ]
  }
 ],
 "metadata": {
  "kernelspec": {
   "display_name": "Python 3",
   "language": "python",
   "name": "python3"
  },
  "language_info": {
   "codemirror_mode": {
    "name": "ipython",
    "version": 3
   },
   "file_extension": ".py",
   "mimetype": "text/x-python",
   "name": "python",
   "nbconvert_exporter": "python",
   "pygments_lexer": "ipython3",
   "version": "3.8.8"
  }
 },
 "nbformat": 4,
 "nbformat_minor": 5
}
