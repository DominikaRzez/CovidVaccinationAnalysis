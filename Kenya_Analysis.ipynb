{
 "cells": [
  {
   "cell_type": "code",
   "execution_count": null,
   "id": "729f0867",
   "metadata": {},
   "outputs": [],
   "source": [
    "#dependencies\n",
    "import pandas as pd\n",
    "import numpy as np\n",
    "import matplotlib.pyplot as plt\n",
    "import scipy.stats as st\n",
    "from scipy.stats import linregress"
   ]
  },
  {
   "cell_type": "code",
   "execution_count": null,
   "id": "4407dd68",
   "metadata": {},
   "outputs": [],
   "source": [
    "summary_data = pd.read_csv(\"data/worldometer_coronavirus_summary_data.csv\")\n",
    "summary_data"
   ]
  },
  {
   "cell_type": "code",
   "execution_count": null,
   "id": "322b5965",
   "metadata": {},
   "outputs": [],
   "source": [
    "summary_data.sort_values(\"total_deaths\", ascending=False).head(20)"
   ]
  },
  {
   "cell_type": "code",
   "execution_count": null,
   "id": "313cea86",
   "metadata": {},
   "outputs": [],
   "source": [
    "kenya_data = summary_data.loc[summary_data[\"country\"] == \"Kenya\"]\n",
    "kenya_data"
   ]
  },
  {
   "cell_type": "code",
   "execution_count": null,
   "id": "becad9bc",
   "metadata": {},
   "outputs": [],
   "source": [
    "ken_df = pd.DataFrame({\"Country\" : summary_data[\"country\"],\n",
    "                      \"Total Confirmed\" : summary_data[\"total_confirmed\"],\n",
    "                      \"Total Deaths\" : summary_data[\"total_deaths\"],\n",
    "                      \"Total Recovered\" : summary_data[\"total_recovered\"],\n",
    "                      \"Active Cases\" : summary_data[\"active_cases\"]})\n",
    "ken_df = ken_df.loc[ken_df[\"Country\"] == \"Kenya\"]\n",
    "ken_df"
   ]
  },
  {
   "cell_type": "code",
   "execution_count": null,
   "id": "34523200",
   "metadata": {},
   "outputs": [],
   "source": [
    "#bar graph displaying effect of COVID in Kenya\n",
    "Kenya = [255355, 5335.0, 248398.0, 1622.0]\n",
    "x_axis = np.arange(len(Kenya))\n",
    "plt.bar(x_axis, Kenya, align=\"center\", color=\"r\")\n",
    "\n",
    "tick_locations = [value for value in x_axis]\n",
    "plt.xticks(tick_locations, [\"Total Confirmed\", \"Total Deaths\", \"Total Recovered\", \"Active Cases\"])\n",
    "plt.title(\"COVID-19 in Kenya\")\n",
    "plt.xlabel(\"Kenya COVID-19 Cases\")\n",
    "plt.ylabel(\"Population\")\n",
    "plt.savefig(\"images/COVID_in_kenya.png\")\n",
    "\n",
    "plt.show()"
   ]
  },
  {
   "cell_type": "code",
   "execution_count": null,
   "id": "8172cfee",
   "metadata": {},
   "outputs": [],
   "source": [
    "uk_data = summary_data.loc[summary_data[\"country\"] == \"UK\"]\n",
    "uk_data"
   ]
  },
  {
   "cell_type": "code",
   "execution_count": null,
   "id": "1964266e",
   "metadata": {},
   "outputs": [],
   "source": [
    "uk_df = pd.DataFrame({\"Country\" : summary_data[\"country\"],\n",
    "                      \"Total Confirmed\" : summary_data[\"total_confirmed\"],\n",
    "                      \"Total Deaths\" : summary_data[\"total_deaths\"],\n",
    "                      \"Total Recovered\" : summary_data[\"total_recovered\"],\n",
    "                      \"Active Cases\" : summary_data[\"active_cases\"]})\n",
    "uk_df = uk_df.loc[uk_df[\"Country\"] == \"UK\"]\n",
    "uk_df"
   ]
  },
  {
   "cell_type": "code",
   "execution_count": null,
   "id": "7908491c",
   "metadata": {},
   "outputs": [],
   "source": [
    "#bar graph displaying effect of COVID in the UK\n",
    "UK = [10379647, 145424.0, 9156066.0, 1078157.0]\n",
    "x_axis = np.arange(len(UK))\n",
    "plt.bar(x_axis, UK, align=\"center\", color=\"b\")\n",
    "\n",
    "tick_locations = [value for value in x_axis]\n",
    "plt.xticks(tick_locations, [\"Total Confirmed\", \"Total Deaths\", \"Total Recovered\", \"Active Cases\"])\n",
    "plt.title(\"COVID-19 in UK\")\n",
    "plt.xlabel(\"UK COVID-19 Cases\")\n",
    "plt.ylabel(\"Population\")\n",
    "plt.savefig(\"images/COVID_in_uk.png\")\n",
    "\n",
    "plt.show()"
   ]
  },
  {
   "cell_type": "code",
   "execution_count": null,
   "id": "d8055c16",
   "metadata": {},
   "outputs": [],
   "source": [
    "#bar graph of population in Kenya and the UK\n",
    "population_values = [55447839, 68391673]\n",
    "x_axis = np.arange(len(population_values))\n",
    "plt.bar(x_axis, population_values, align=\"center\", color=[\"r\", \"b\"])\n",
    "\n",
    "tick_locations = [value for value in x_axis]\n",
    "plt.xticks(tick_locations, [\"Kenya\", \"UK\"])\n",
    "plt.title(\"Population difference in Kenya & UK\")\n",
    "plt.xlabel(\"Country\")\n",
    "plt.ylabel(\"Population\")\n",
    "plt.ylim(50000000,70000000)\n",
    "plt.savefig(\"images/uk_vs_kenya_population.png\")"
   ]
  },
  {
   "cell_type": "code",
   "execution_count": null,
   "id": "01c27f11",
   "metadata": {},
   "outputs": [],
   "source": [
    "#import daily dataset\n",
    "covid_df = pd.read_csv(\"data/worldometer_coronavirus_daily_data.csv\")\n",
    "covid_df"
   ]
  },
  {
   "cell_type": "code",
   "execution_count": null,
   "id": "9d2270ac",
   "metadata": {},
   "outputs": [],
   "source": [
    "kenya_df = covid_df[covid_df[\"country\"] == \"Kenya\"]\n",
    "kenya_df = kenya_df.dropna()\n",
    "kenya_df"
   ]
  },
  {
   "cell_type": "code",
   "execution_count": null,
   "id": "b919763f",
   "metadata": {},
   "outputs": [],
   "source": [
    "#create timeline\n",
    "covid_ken = kenya_df[kenya_df.index % 30 == 0]\n",
    "covid_ken.sort_values(\"daily_new_cases\", ascending=False).head(20)"
   ]
  },
  {
   "cell_type": "code",
   "execution_count": null,
   "id": "8fbeef9c",
   "metadata": {},
   "outputs": [],
   "source": [
    "#line graph of daily new cases from March 2020 to November 2021 in Kenya\n",
    "date = covid_ken[\"date\"]\n",
    "daily_cases = covid_ken[\"daily_new_cases\"]\n",
    "\n",
    "plt.plot(date, daily_cases, color=\"b\")\n",
    "plt.title(\"New COVID Cases in Kenya Daily from March 2020 to November 2021\")\n",
    "plt.xticks(rotation=90)\n",
    "plt.xlabel(\"Timeline\")\n",
    "plt.ylabel(\"Number of New COVID Cases\")\n",
    "plt.savefig(\"images/Kenya_daily_new_cases.png\")\n",
    "plt.show()"
   ]
  },
  {
   "cell_type": "code",
   "execution_count": null,
   "id": "6b0654b5",
   "metadata": {},
   "outputs": [],
   "source": [
    "covid_ken.sort_values(\"daily_new_deaths\", ascending=False)"
   ]
  },
  {
   "cell_type": "code",
   "execution_count": null,
   "id": "2cbd23a6",
   "metadata": {},
   "outputs": [],
   "source": [
    "#line graph of daily deaths from March 2020 to November 2021 in Kenya\n",
    "deaths = covid_ken[\"daily_new_deaths\"]\n",
    "date = covid_ken[\"date\"]\n",
    "plt.plot(date, deaths, color=\"r\")\n",
    "plt.title(\"Daily New Deaths in Kenya from March 2020 to November 2021\")\n",
    "plt.xticks(rotation=90)\n",
    "plt.xlabel(\"Timeline\")\n",
    "plt.ylabel(\"Number of COVID Deaths\")\n",
    "plt.savefig(\"images/Kenya_daily_deaths.png\")\n",
    "plt.show()"
   ]
  },
  {
   "cell_type": "code",
   "execution_count": null,
   "id": "488470d0",
   "metadata": {},
   "outputs": [],
   "source": [
    "#drop n/a values\n",
    "daily_cases = daily_cases.dropna()\n",
    "deaths = deaths.dropna()"
   ]
  },
  {
   "cell_type": "code",
   "execution_count": null,
   "id": "364cf179",
   "metadata": {},
   "outputs": [],
   "source": [
    "#scatter plot of daily cases vs daily deaths in Kenya\n",
    "plt.scatter(daily_cases, deaths, marker=\".\")\n",
    "plt.xlabel(\"Daily Cases\")\n",
    "plt.ylabel(\"Daily Deaths\")\n",
    "plt.title(\"Daily Cases vs Deaths in Kenya\")"
   ]
  },
  {
   "cell_type": "code",
   "execution_count": null,
   "id": "e719f5bb",
   "metadata": {},
   "outputs": [],
   "source": [
    "#adding linear regression to the scatter plot\n",
    "x_axis = daily_cases\n",
    "y_axis = deaths\n",
    "\n",
    "result = st.linregress(x_axis, y_axis)\n",
    "regress_values = x_axis * result.slope + result.intercept\n",
    "\n",
    "correlation = st.pearsonr(x_axis, y_axis)\n",
    "print(f\"The correlation coefficient between the daily new cases and deaths in Kenya is {correlation[0]}\")\n",
    "\n",
    "equation = \"y = \" + str(round(result.slope,2)) + \"x + \" + str(round(result.intercept,2))\n",
    "print(equation)\n",
    "\n",
    "plt.scatter(x_axis, y_axis, marker=\".\")\n",
    "plt.title(\"Daily Cases vs Deaths in Kenya\")\n",
    "plt.xlabel(\"Daily New Cases\")\n",
    "plt.ylabel(\"Daily New Deaths\")\n",
    "\n",
    "plt.plot(x_axis, regress_values, \"r-\")\n",
    "plt.annotate(equation, (550,1), color=\"r\", fontsize=12)\n",
    "plt.savefig(\"images/kenya_daily_cases_vs_daily_deaths.png\")\n",
    "plt.show()"
   ]
  },
  {
   "cell_type": "code",
   "execution_count": null,
   "id": "307f1a23",
   "metadata": {},
   "outputs": [],
   "source": [
    "#importing vaccination dataset\n",
    "vaccine_data = pd.read_csv(\"data/country_vaccinations.csv\")\n",
    "\n",
    "#setting date to the format to enable merging\n",
    "vaccine_data[\"date\"] = pd.to_datetime(vaccine_data.date)\n",
    "covid_df[\"date\"] = pd.to_datetime(covid_df.date)"
   ]
  },
  {
   "cell_type": "code",
   "execution_count": null,
   "id": "a3b59328",
   "metadata": {},
   "outputs": [],
   "source": [
    "#selecting data only relevant to Kenya\n",
    "kenya_vaccine = vaccine_data[vaccine_data[\"country\"] == \"Kenya\"]\n",
    "kenya_vaccine.to_csv(\"data/Kenya_vaccination_data.csv\", index=False, header=True)\n",
    "kenya_covid = covid_df[covid_df[\"country\"] == \"Kenya\"]"
   ]
  },
  {
   "cell_type": "code",
   "execution_count": null,
   "id": "d35bfaee",
   "metadata": {},
   "outputs": [],
   "source": [
    "#merging two datasets for Kenya to display full dataframe of vaccination and covid cases\n",
    "kenya_merged = pd.merge(kenya_vaccine,kenya_covid, on=\"date\")\n",
    "kenya_merged = kenya_merged.dropna()\n",
    "kenya_merged"
   ]
  },
  {
   "cell_type": "code",
   "execution_count": null,
   "id": "ef774e1c",
   "metadata": {},
   "outputs": [],
   "source": [
    "#scatter plot of daily cases vs daily vaccination in Kenya\n",
    "kenya_merged_vacc = kenya_merged[\"daily_vaccinations\"]\n",
    "kenya_merged_cases = kenya_merged[\"daily_new_cases\"]\n",
    "plt.scatter(kenya_merged_vacc, kenya_merged_cases, marker=\"o\", facecolors=\"blue\", alpha=0.75)\n",
    "plt.xlabel(\"Daily VaccinationsNew Cases\")\n",
    "plt.ylabel(\"Daily New Cases\")\n",
    "plt.title(\"Daily Daily Vaccinations New Cases vs Daily New Cases in Kenya\")"
   ]
  },
  {
   "cell_type": "code",
   "execution_count": null,
   "id": "a60af0be",
   "metadata": {},
   "outputs": [],
   "source": [
    "#adding linear regression to the scatter plot\n",
    "(slope, intercept, rvalue, pvalue, stderr) = linregress(kenya_merged_vacc, kenya_merged_cases)\n",
    "regress_values = kenya_merged_vacc * slope + intercept\n",
    "line_eq= \"y = \" + str(round(slope,2)) + \"x + \" + str(round(intercept,2))\n",
    "print(f\"The r-squared is: {rvalue**2}\")\n",
    "plt.scatter(kenya_merged_vacc, kenya_merged_cases, marker=\"o\", facecolors=\"blue\", alpha=0.75)\n",
    "plt.plot(kenya_merged_vacc, regress_values, \"r-\")\n",
    "plt.annotate(line_eq, (10000,200), fontsize=12, color=\"red\")\n",
    "plt.xlabel(\"Daily Vaccinations\")\n",
    "plt.ylabel(\"Daily New Cases\")\n",
    "plt.title(\"Daily Vaccinations vs Daily New Cases in Kenya\")\n",
    "plt.savefig(\"images/kenya_daily_cases_vs_vaccination.png\")\n",
    "plt.show"
   ]
  },
  {
   "cell_type": "code",
   "execution_count": null,
   "id": "09584b5c",
   "metadata": {},
   "outputs": [],
   "source": [
    "#creating scatter plot of vaccination over time\n",
    "kenya_time=kenya_merged[\"date\"]\n",
    "daily_vacc=kenya_merged[\"daily_vaccinations\"]\n",
    "plt.scatter(kenya_time, daily_vacc, marker=\"o\", facecolors=\"red\", edgecolors=\"black\",alpha=0.75)\n",
    "plt.xticks(rotation=45)\n",
    "plt.ylabel(\"Vaccination\")\n",
    "plt.title(\"Vaccination Over Time in Kenya\")\n",
    "plt.savefig(\"images/kenya_vaccination_over_time.png\")"
   ]
  }
 ],
 "metadata": {
  "kernelspec": {
   "display_name": "Python 3",
   "language": "python",
   "name": "python3"
  },
  "language_info": {
   "codemirror_mode": {
    "name": "ipython",
    "version": 3
   },
   "file_extension": ".py",
   "mimetype": "text/x-python",
   "name": "python",
   "nbconvert_exporter": "python",
   "pygments_lexer": "ipython3",
   "version": "3.8.8"
  }
 },
 "nbformat": 4,
 "nbformat_minor": 5
}
