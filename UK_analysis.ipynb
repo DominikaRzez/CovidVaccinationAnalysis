{
 "cells": [
  {
   "cell_type": "code",
   "execution_count": null,
   "id": "8aa25bd5",
   "metadata": {},
   "outputs": [],
   "source": [
    "#Adding dependecies\n",
    "import pandas as pd\n",
    "import matplotlib.pyplot as plt\n",
    "import numpy as np\n",
    "from scipy.stats import linregress"
   ]
  },
  {
   "cell_type": "code",
   "execution_count": null,
   "id": "fe31e508",
   "metadata": {},
   "outputs": [],
   "source": [
    "#opening covid data\n",
    "covid_data=pd.read_csv(\"data/worldometer_coronavirus_daily_data.csv\")"
   ]
  },
  {
   "cell_type": "markdown",
   "id": "99c2cb2a",
   "metadata": {},
   "source": [
    "<h1>Analysis of Covid situation in UK</h1>"
   ]
  },
  {
   "cell_type": "code",
   "execution_count": null,
   "id": "51fa75e8",
   "metadata": {},
   "outputs": [],
   "source": [
    "#selecting data only relevant to UK\n",
    "uk_covid=covid_data[covid_data[\"country\"]==\"UK\"]\n",
    "uk_covid.to_csv(\"output/UK_covid_data.csv\", index=False, header=True)\n",
    "uk_covid.head()"
   ]
  },
  {
   "cell_type": "markdown",
   "id": "4c3b2126",
   "metadata": {},
   "source": [
    "<h3>Daily new Covid cases in UK</h3>"
   ]
  },
  {
   "cell_type": "code",
   "execution_count": null,
   "id": "c5df87ff",
   "metadata": {},
   "outputs": [],
   "source": [
    "#selecting data from every 30th row to display monthly situation\n",
    "uk_covid2 = uk_covid[uk_covid.index % 30== 0]\n",
    "date=uk_covid2[\"date\"]\n",
    "daily_new_cases=uk_covid2[\"daily_new_cases\"]\n",
    "#plotting line graph of daily cases\n",
    "plt.plot(date, daily_new_cases)\n",
    "plt.title(\"Daily New Covid Cases in UK from March 2020 to November 2021\")\n",
    "plt.xticks(rotation=45)\n",
    "plt.savefig(\"images/UK_daily_cases.png\")\n",
    "plt.show()"
   ]
  },
  {
   "cell_type": "markdown",
   "id": "50945e2a",
   "metadata": {},
   "source": [
    "<h3>Daily Deaths in UK</h3>"
   ]
  },
  {
   "cell_type": "code",
   "execution_count": null,
   "id": "3892ae29",
   "metadata": {},
   "outputs": [],
   "source": [
    "#plotting line graph of daily deaths\n",
    "daily_new_deaths=uk_covid2[\"daily_new_deaths\"]\n",
    "date=uk_covid2[\"date\"]\n",
    "plt.plot(date, daily_new_deaths)\n",
    "plt.title(\"Daily New Deaths in UK from March 2020 to November 2021\")\n",
    "plt.xticks(rotation=45)\n",
    "plt.savefig(\"images/UK_daily_deaths.png\")\n",
    "plt.show()"
   ]
  },
  {
   "cell_type": "markdown",
   "id": "f13ec10f",
   "metadata": {},
   "source": [
    "<h3>Daily new cases vs daily deaths in UK</h3>"
   ]
  },
  {
   "cell_type": "code",
   "execution_count": null,
   "id": "f147c4a4",
   "metadata": {},
   "outputs": [],
   "source": [
    "#plotting scatter plot of daily new cases vs new deaths\n",
    "plt.scatter(daily_new_cases,daily_new_deaths, marker=\"o\", facecolors=\"blue\", alpha=0.75)\n",
    "plt.xlabel(\"Daily New Cases\")\n",
    "plt.ylabel(\"Daily New Deaths\")\n",
    "plt.title(\"UK Daily New Cases vs Deaths\")"
   ]
  },
  {
   "cell_type": "code",
   "execution_count": null,
   "id": "2a978925",
   "metadata": {},
   "outputs": [],
   "source": [
    "#adding linear regression to the scatter plot\n",
    "(slope, intercept, rvalue, pvalue, stderr) = linregress(daily_new_cases, daily_new_deaths)\n",
    "regress_values=daily_new_cases*slope+intercept\n",
    "line_eq= \"y = \" + str(round(slope,2)) + \"x + \" + str(round(intercept,2))\n",
    "plt.scatter(daily_new_cases,daily_new_deaths, marker=\"o\", facecolors=\"blue\", alpha=0.75)\n",
    "plt.plot(daily_new_cases,regress_values,\"r-\")\n",
    "plt.annotate(line_eq,(27000,600),fontsize=15, color=\"red\")\n",
    "plt.xlabel(\"Daily New cases\")\n",
    "plt.ylabel(\"Daily new deaths\")\n",
    "print(f\"The r-squared is: {rvalue**2}\")\n",
    "plt.title(\"UK Daily New Cases vs Deaths\")\n",
    "plt.savefig(\"images/UK_daily_cases_vs_deaths.png\")"
   ]
  },
  {
   "cell_type": "markdown",
   "id": "62dac6d1",
   "metadata": {},
   "source": [
    "R-squared value reall low indicating not strong correlation between Daily New Cases and Daily Deaths in UK"
   ]
  },
  {
   "cell_type": "markdown",
   "id": "104afe4d",
   "metadata": {},
   "source": [
    "<h2> Looking into number of cases vs vaccination rate</h2>"
   ]
  },
  {
   "cell_type": "code",
   "execution_count": null,
   "id": "714dd5cf",
   "metadata": {},
   "outputs": [],
   "source": [
    "#importing vaccination data set\n",
    "vaccine_data=pd.read_csv(\"data/country_vaccinations.csv\")\n",
    "#setting date to the format to enable merging\n",
    "vaccine_data[\"date\"]=pd.to_datetime(vaccine_data.date)\n",
    "covid_data[\"date\"]=pd.to_datetime(covid_data.date)"
   ]
  },
  {
   "cell_type": "code",
   "execution_count": null,
   "id": "b1f9f66f",
   "metadata": {},
   "outputs": [],
   "source": [
    "#vaccination dataset splits UK into constituent countries\n",
    "#extracting data for each country and merging in order to make the datasets correlating\n",
    "eng_vaccine=vaccine_data[vaccine_data[\"country\"]==\"England\"]\n",
    "eng_vaccine=eng_vaccine[[\"country\",\"date\",\"daily_vaccinations\", \"people_fully_vaccinated\", \"people_vaccinated_per_hundred\"]]\n",
    "scot_vaccine=vaccine_data[vaccine_data[\"country\"]==\"Scotland\"]\n",
    "scot_vaccine=scot_vaccine[[\"country\",\"date\",\"daily_vaccinations\",\"people_fully_vaccinated\", \"people_vaccinated_per_hundred\"]]\n",
    "wal_vaccine=vaccine_data[vaccine_data[\"country\"]==\"Wales\"]\n",
    "wal_vaccine=wal_vaccine[[\"country\",\"date\",\"daily_vaccinations\",\"people_fully_vaccinated\", \"people_vaccinated_per_hundred\"]]\n",
    "irl_vaccine=vaccine_data[vaccine_data[\"country\"]==\"Northern Ireland\"]\n",
    "irl_vaccine=irl_vaccine[[\"country\",\"date\",\"daily_vaccinations\",\"people_fully_vaccinated\", \"people_vaccinated_per_hundred\"]]\n",
    "uk_merged1=pd.merge(eng_vaccine,scot_vaccine,on=\"date\",how=\"outer\",suffixes=('1', '2'))\n",
    "uk_merged2=pd.merge(uk_merged1,wal_vaccine,on=\"date\",how=\"outer\",suffixes=('2', '3'))\n",
    "uk_merged3=pd.merge(uk_merged2,irl_vaccine,on=\"date\",how=\"outer\",suffixes=('3', '4'))\n",
    "uk_merged3=uk_merged3.fillna(value=0)\n",
    "uk_merged3=uk_merged3.sort_values(by=[\"date\"])\n",
    "uk_merged3.head()"
   ]
  },
  {
   "cell_type": "code",
   "execution_count": null,
   "id": "4f3a1e0b",
   "metadata": {},
   "outputs": [],
   "source": [
    "#calculating the sum of daily vaccinations in each constituent countries\n",
    "#to find out th daily vaccination across the whole UK\n",
    "uk_daily_vacc=[]\n",
    "for row in uk_merged3:\n",
    "    daily_sum=uk_merged3[\"daily_vaccinations1\"]+uk_merged3[\"daily_vaccinations2\"]+uk_merged3[\"daily_vaccinations3\"]+uk_merged3[\"daily_vaccinations4\"]\n",
    "    uk_daily_vacc.append(daily_sum)\n",
    "uk_daily_vacc[0]"
   ]
  },
  {
   "cell_type": "code",
   "execution_count": null,
   "id": "423f1b67",
   "metadata": {},
   "outputs": [],
   "source": [
    "uk_fully_vacc=[]\n",
    "for row in uk_merged3:\n",
    "    fully_vacc_sum=uk_merged3[\"people_fully_vaccinated1\"]+uk_merged3[\"people_fully_vaccinated2\"]+uk_merged3[\"people_fully_vaccinated3\"]+uk_merged3[\"people_fully_vaccinated4\"]\n",
    "    uk_fully_vacc.append(fully_vacc_sum)\n",
    "uk_fully_vacc[0]"
   ]
  },
  {
   "cell_type": "code",
   "execution_count": null,
   "id": "818154c6",
   "metadata": {},
   "outputs": [],
   "source": [
    "#creating new data frame holding combined data for England, Wales, Scotland and Northern Ireland\n",
    "#calling it the UK dataset\n",
    "uk_vaccination_df=pd.DataFrame({\"country\":\"UK\",\n",
    "                                \"date\":uk_merged3[\"date\"],\n",
    "                               \"daily vaccinations\":uk_daily_vacc[0],\n",
    "                               \"people fully vaccinated\":uk_fully_vacc[0]})\n",
    "uk_vaccination_df.to_csv(\"output/UK_vaccination_data.csv\", index=False, header=True)\n",
    "uk_vaccination_df.head()"
   ]
  },
  {
   "cell_type": "code",
   "execution_count": null,
   "id": "7f0c1768",
   "metadata": {},
   "outputs": [],
   "source": [
    "final_vacc_number=uk_vaccination_df[[\"country\",\"people fully vaccinated\"]].drop_duplicates(subset=['country'], keep=\"last\")\n",
    "final_vacc_number"
   ]
  },
  {
   "cell_type": "code",
   "execution_count": null,
   "id": "46c3ce4b",
   "metadata": {},
   "outputs": [],
   "source": [
    "#extracting UK data from the covid dataset\n",
    "uk_covid=covid_data[covid_data[\"country\"]==\"UK\"]\n",
    "uk_covid=uk_covid[[\"date\",\"daily_new_cases\"]]"
   ]
  },
  {
   "cell_type": "code",
   "execution_count": null,
   "id": "3889f240",
   "metadata": {},
   "outputs": [],
   "source": [
    "#merging two datasets to display full dataframe of vaccination and covid cases across UK\n",
    "uk_combined=pd.merge(uk_vaccination_df,uk_covid, on=\"date\")\n",
    "uk_combined=uk_combined.dropna()\n",
    "uk_combined.head()"
   ]
  },
  {
   "cell_type": "code",
   "execution_count": null,
   "id": "09cda30d",
   "metadata": {},
   "outputs": [],
   "source": [
    "#scatter plot of daily cases vs daily vaccination in UK\n",
    "uk_combined_vacc=uk_combined[\"daily vaccinations\"]\n",
    "uk_combined_cases=uk_combined[\"daily_new_cases\"]\n",
    "plt.scatter(uk_combined_cases,uk_combined_vacc, marker=\"o\", facecolors=\"blue\", alpha=0.75)\n",
    "plt.xlabel(\"Daily New Cases\")\n",
    "plt.ylabel(\"Daily Vaccinations\")\n",
    "plt.title(\"Daily new cases vs daily vaccination in UK\")"
   ]
  },
  {
   "cell_type": "code",
   "execution_count": null,
   "id": "1fcb994b",
   "metadata": {},
   "outputs": [],
   "source": [
    "#adding linear regression to the scatter plot\n",
    "(slope, intercept, rvalue, pvalue, stderr) = linregress(uk_combined_vacc, uk_combined_cases)\n",
    "regress_values=uk_combined_vacc*slope+intercept\n",
    "line_eq= \"y = \" + str(round(slope,2)) + \"x + \" + str(round(intercept,2))\n",
    "print(f\"The r-squared is: {rvalue**2}\")\n",
    "plt.scatter(uk_combined_vacc,uk_combined_cases, marker=\"o\", facecolors=\"blue\", alpha=0.75)\n",
    "plt.plot(uk_combined_vacc,regress_values,\"r-\")\n",
    "plt.annotate(line_eq,(500,10000),fontsize=15, color=\"red\")\n",
    "plt.xlabel(\"Daily Vaccinations\")\n",
    "plt.ylabel(\"Daily New Cases\")\n",
    "plt.title(\"Daily daily vaccination vs new cases in UK\")\n",
    "plt.savefig(\"images/uk_daily_cases_vs_vaccination.png\")\n",
    "plt.show"
   ]
  },
  {
   "cell_type": "code",
   "execution_count": null,
   "id": "75b4cf95",
   "metadata": {},
   "outputs": [],
   "source": [
    "#selecting every 7th row from the dataset to collect weekly data\n",
    "uk_combined_timeframe = uk_combined[uk_combined.index % 7== 0]"
   ]
  },
  {
   "cell_type": "code",
   "execution_count": null,
   "id": "98cc0140",
   "metadata": {},
   "outputs": [],
   "source": [
    "#creating scatter plot to display weekly vaccination progress in UK\n",
    "time_uk=uk_combined_timeframe[\"date\"]\n",
    "daily_Vacc=uk_combined_timeframe[\"daily vaccinations\"]\n",
    "plt.scatter(time_uk, daily_Vacc, marker=\"o\", facecolors=\"red\", edgecolors=\"black\",alpha=0.75)\n",
    "plt.xticks(rotation=45)\n",
    "plt.ylabel(\"Vaccination\")\n",
    "plt.title(\"Vaccination over time in UK\")\n",
    "plt.savefig(\"images/uk_vaccination_over_time.png\")"
   ]
  }
 ],
 "metadata": {
  "kernelspec": {
   "display_name": "Python 3",
   "language": "python",
   "name": "python3"
  },
  "language_info": {
   "codemirror_mode": {
    "name": "ipython",
    "version": 3
   },
   "file_extension": ".py",
   "mimetype": "text/x-python",
   "name": "python",
   "nbconvert_exporter": "python",
   "pygments_lexer": "ipython3",
   "version": "3.8.8"
  }
 },
 "nbformat": 4,
 "nbformat_minor": 5
}
