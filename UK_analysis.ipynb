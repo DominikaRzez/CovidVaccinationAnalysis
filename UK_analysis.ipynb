{
 "cells": [
  {
   "cell_type": "code",
   "execution_count": null,
   "id": "e57acbca",
   "metadata": {},
   "outputs": [],
   "source": [
    "#Adding dependecies\n",
    "import pandas as pd\n",
    "import matplotlib.pyplot as plt\n",
    "import numpy as np\n",
    "from config import g_key\n",
    "import pycountry\n",
    "import requests\n",
    "import json\n",
    "import gmaps"
   ]
  },
  {
   "cell_type": "code",
   "execution_count": null,
   "id": "5d8b370e",
   "metadata": {},
   "outputs": [],
   "source": [
    "covid_data=pd.read_csv(\"data/worldometer_coronavirus_daily_data.csv\")\n",
    "covid_data.head()"
   ]
  },
  {
   "cell_type": "code",
   "execution_count": null,
   "id": "3ebbb6f1",
   "metadata": {},
   "outputs": [],
   "source": [
    "uk_covid=covid_data[covid_data[\"country\"]==\"UK\"]\n",
    "uk_covid.head()"
   ]
  },
  {
   "cell_type": "code",
   "execution_count": null,
   "id": "fff37796",
   "metadata": {},
   "outputs": [],
   "source": [
    "covid_summary=pd.read_csv(\"data/worldometer_coronavirus_summary_data.csv\")\n",
    "uk_summary=covid_summary[covid_summary[\"country\"]==\"UK\"]\n",
    "uk_covid=uk_summary[[\"total_confirmed\",\"total_deaths\",\"total_recovered\"]]\n",
    "uk_covid"
   ]
  },
  {
   "cell_type": "code",
   "execution_count": null,
   "id": "d8fa8884",
   "metadata": {},
   "outputs": [],
   "source": [
    "uk_chart = uk_covid.plot(kind=\"bar\", title=\"UK Covid summary\")\n",
    "gender_chart.set_ylabel(\"Number of cases\")\n",
    "plt.show()\n",
    "plt.tight_layout()"
   ]
  },
  {
   "cell_type": "code",
   "execution_count": null,
   "id": "19ed130b",
   "metadata": {},
   "outputs": [],
   "source": [
    "#importing data set\n",
    "vaccine_data=pd.read_csv(\"data/country_vaccinations.csv\")\n",
    "vaccine_data.head()"
   ]
  },
  {
   "cell_type": "code",
   "execution_count": null,
   "id": "92877b6d",
   "metadata": {},
   "outputs": [],
   "source": [
    "uk=vaccine_data[vaccine_data[\"country\"]==\"England\"]\n",
    "uk.head()"
   ]
  },
  {
   "cell_type": "code",
   "execution_count": null,
   "id": "a63faaef",
   "metadata": {},
   "outputs": [],
   "source": [
    "uk_fully_vacc=uk[\"people_fully_vaccinated\"]\n",
    "uk_date=uk[\"date\"]\n",
    "x_axis=uk_date\n",
    "plt.scatter(x_axis, uk_fully_vacc, marker=\"o\")"
   ]
  },
  {
   "cell_type": "code",
   "execution_count": null,
   "id": "5b3f7e55",
   "metadata": {},
   "outputs": [],
   "source": [
    "kenya=vaccine_data[vaccine_data[\"country\"]==\"Kenya\"]\n",
    "kenya_fully_vacc=kenya[\"people_fully_vaccinated\"]\n",
    "kenya_date=kenya[\"date\"]\n",
    "x_axis=kenya_date\n",
    "plt.scatter(x_axis, kenya_fully_vacc, marker=\"o\")"
   ]
  }
 ],
 "metadata": {
  "kernelspec": {
   "display_name": "Python 3",
   "language": "python",
   "name": "python3"
  },
  "language_info": {
   "codemirror_mode": {
    "name": "ipython",
    "version": 3
   },
   "file_extension": ".py",
   "mimetype": "text/x-python",
   "name": "python",
   "nbconvert_exporter": "python",
   "pygments_lexer": "ipython3",
   "version": "3.8.8"
  }
 },
 "nbformat": 4,
 "nbformat_minor": 5
}
