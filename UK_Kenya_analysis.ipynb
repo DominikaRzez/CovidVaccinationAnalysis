{
 "cells": [
  {
   "cell_type": "code",
   "execution_count": null,
   "id": "e57acbca",
   "metadata": {},
   "outputs": [],
   "source": [
    "#Adding dependecies\n",
    "import pandas as pd\n",
    "import matplotlib.pyplot as plt\n",
    "import numpy as np\n",
    "from scipy.stats import linregress"
   ]
  },
  {
   "cell_type": "code",
   "execution_count": null,
   "id": "5d8b370e",
   "metadata": {},
   "outputs": [],
   "source": [
    "#opening covid data\n",
    "covid_data=pd.read_csv(\"data/worldometer_coronavirus_daily_data.csv\")"
   ]
  },
  {
   "cell_type": "markdown",
   "id": "4805f8fa",
   "metadata": {},
   "source": [
    "<h1>Analysis of Covid situation in UK</h1>"
   ]
  },
  {
   "cell_type": "code",
   "execution_count": null,
   "id": "3ebbb6f1",
   "metadata": {
    "scrolled": true
   },
   "outputs": [],
   "source": [
    "#selecting data only relevant to UK\n",
    "uk_covid=covid_data[covid_data[\"country\"]==\"UK\"]\n",
    "uk_covid.to_csv(\"cleaned_data/UK_covid_data.csv\", index=False, header=True)\n",
    "uk_covid.head()"
   ]
  },
  {
   "cell_type": "markdown",
   "id": "dae6696f",
   "metadata": {},
   "source": [
    "<h3>Daily new Covid cases in UK</h3>"
   ]
  },
  {
   "cell_type": "code",
   "execution_count": null,
   "id": "28e72913",
   "metadata": {},
   "outputs": [],
   "source": [
    "#selecting data from every 30th row to display monthly situation\n",
    "uk_covid2 = uk_covid[uk_covid.index % 30== 0]\n",
    "date=uk_covid2[\"date\"]\n",
    "daily_new_cases=uk_covid2[\"daily_new_cases\"]\n",
    "#plotting line graph of daily cases\n",
    "plt.plot(date, daily_new_cases)\n",
    "plt.title(\"Daily New Covid Cases in UK from March 2020 to November 2021\")\n",
    "plt.xticks(rotation=45)\n",
    "plt.savefig(\"images/UK_daily_cases.png\")\n",
    "plt.show()"
   ]
  },
  {
   "cell_type": "markdown",
   "id": "b2a60413",
   "metadata": {},
   "source": [
    "<h3>Daily Deaths in UK</h3>"
   ]
  },
  {
   "cell_type": "code",
   "execution_count": null,
   "id": "d99432aa",
   "metadata": {},
   "outputs": [],
   "source": [
    "#plotting line graph of daily deaths\n",
    "daily_new_deaths=uk_covid2[\"daily_new_deaths\"]\n",
    "date=uk_covid2[\"date\"]\n",
    "plt.plot(date, daily_new_deaths)\n",
    "plt.title(\"Daily New Deaths in UK from March 2020 to November 2021\")\n",
    "plt.xticks(rotation=45)\n",
    "plt.savefig(\"images/UK_daily_deaths.png\")\n",
    "plt.show()"
   ]
  },
  {
   "cell_type": "markdown",
   "id": "a9409e79",
   "metadata": {},
   "source": [
    "<h3>Daily new cases vs daily deaths in UK</h3>"
   ]
  },
  {
   "cell_type": "code",
   "execution_count": null,
   "id": "90bedf67",
   "metadata": {},
   "outputs": [],
   "source": [
    "#plotting scatter plot of daily new cases vs new deaths\n",
    "plt.scatter(daily_new_cases,daily_new_deaths, marker=\"o\", facecolors=\"blue\", alpha=0.75)\n",
    "plt.xlabel(\"Daily New Cases\")\n",
    "plt.ylabel(\"Daily New Deaths\")\n",
    "plt.title(\"UK Daily New Cases vs Deaths\")"
   ]
  },
  {
   "cell_type": "code",
   "execution_count": null,
   "id": "5171eb7a",
   "metadata": {},
   "outputs": [],
   "source": [
    "#adding linear regression to the scatter plot\n",
    "(slope, intercept, rvalue, pvalue, stderr) = linregress(daily_new_cases, daily_new_deaths)\n",
    "regress_values=daily_new_cases*slope+intercept\n",
    "line_eq= \"y = \" + str(round(slope,2)) + \"x + \" + str(round(intercept,2))\n",
    "plt.scatter(daily_new_cases,daily_new_deaths, marker=\"o\", facecolors=\"blue\", alpha=0.75)\n",
    "plt.plot(daily_new_cases,regress_values,\"r-\")\n",
    "plt.annotate(line_eq,(27000,600),fontsize=15, color=\"red\")\n",
    "plt.xlabel(\"Daily New cases\")\n",
    "plt.ylabel(\"Daily new deaths\")\n",
    "print(f\"The r-squared is: {rvalue**2}\")\n",
    "plt.title(\"UK Daily New Cases vs Deaths\")\n",
    "plt.savefig(\"images/UK_daily_cases_vs_deaths.png\")"
   ]
  },
  {
   "cell_type": "markdown",
   "id": "10c4e620",
   "metadata": {},
   "source": [
    "R-squared value reall low indicating not strong correlation between Daily New Cases and Daily Deaths in UK"
   ]
  },
  {
   "cell_type": "markdown",
   "id": "eaa55f9d",
   "metadata": {},
   "source": [
    "<h1>Analysis of Covid situation in Kenya</h1>"
   ]
  },
  {
   "cell_type": "code",
   "execution_count": null,
   "id": "659df609",
   "metadata": {},
   "outputs": [],
   "source": [
    "#selecting data relevant to Kenya from the main data frame\n",
    "kenya_covid=covid_data[covid_data[\"country\"]==\"Kenya\"]\n",
    "kenya_covid.to_csv(\"cleaned_data/Kenya_covid_data.csv\", index=False, header=True)\n",
    "kenya_covid.head()"
   ]
  },
  {
   "cell_type": "markdown",
   "id": "db97a388",
   "metadata": {},
   "source": [
    "<h3>Daily Covid Cases in Kenya</h3>"
   ]
  },
  {
   "cell_type": "code",
   "execution_count": null,
   "id": "ba741366",
   "metadata": {},
   "outputs": [],
   "source": [
    "# selecting every 30th row to show data for each month\n",
    "kenya_covid2 = kenya_covid[kenya_covid.index % 30== 0]\n",
    "date2=kenya_covid2[\"date\"]\n",
    "daily_new_cases_kenya=kenya_covid2[\"daily_new_cases\"]\n",
    "#plotting line graph showing daily new cases\n",
    "plt.plot(date2, daily_new_cases_kenya)\n",
    "plt.title(\"Daily New Covid Cases in Kenya from March 2020 to November 2021\")\n",
    "plt.xticks(rotation=45)\n",
    "plt.savefig(\"images/kenya_daily_cases.png\")\n",
    "plt.show()"
   ]
  },
  {
   "cell_type": "markdown",
   "id": "ae5551ed",
   "metadata": {},
   "source": [
    "<h3>Daily Deaths in Kenya</h3>"
   ]
  },
  {
   "cell_type": "code",
   "execution_count": null,
   "id": "0c5a0633",
   "metadata": {},
   "outputs": [],
   "source": [
    "#plotting line graph of daily deaths in UK\n",
    "daily_new_deaths_kenya=kenya_covid2[\"daily_new_deaths\"]\n",
    "date2=kenya_covid2[\"date\"]\n",
    "plt.plot(date2, daily_new_deaths_kenya)\n",
    "plt.title(\"Daily New Deaths in Kenya from March 2020 to November 2021\")\n",
    "plt.xticks(rotation=45)\n",
    "plt.savefig(\"images/kenya_daily_deaths.png\")\n",
    "plt.show()"
   ]
  },
  {
   "cell_type": "markdown",
   "id": "3aab2de6",
   "metadata": {},
   "source": [
    "<h3>Daily Cases vs Deaths in Kenya</h3>"
   ]
  },
  {
   "cell_type": "code",
   "execution_count": null,
   "id": "3df1e5ca",
   "metadata": {},
   "outputs": [],
   "source": [
    "# dropping all nan values\n",
    "daily_new_cases_kenya=daily_new_cases_kenya.dropna()\n",
    "daily_new_deaths_kenya=daily_new_deaths_kenya.dropna()\n",
    "#scatter plot of daily cases vs daily deaths\n",
    "plt.scatter(daily_new_cases_kenya,daily_new_deaths_kenya, marker=\"o\", facecolors=\"blue\", alpha=0.75)\n",
    "plt.xlabel(\"Daily New Cases\")\n",
    "plt.ylabel(\"Daily New Deaths\")\n",
    "plt.title(\"Kenya Daily New Cases vs Deaths\")"
   ]
  },
  {
   "cell_type": "code",
   "execution_count": null,
   "id": "6bc62836",
   "metadata": {},
   "outputs": [],
   "source": [
    "#adding linear regression to the scatter plot\n",
    "(slope, intercept, rvalue, pvalue, stderr) = linregress(daily_new_cases_kenya, daily_new_deaths_kenya)\n",
    "regress_values=daily_new_cases_kenya*slope+intercept\n",
    "line_eq= \"y = \" + str(round(slope,2)) + \"x + \" + str(round(intercept,2))\n",
    "plt.xlabel(\"Daily New cases\")\n",
    "plt.ylabel(\"Daily new deaths\")\n",
    "print(f\"The r-squared is: {rvalue**2}\")\n",
    "plt.title(\"Kenya Daily New Cases vs Deaths\")\n",
    "plt.scatter(daily_new_cases_kenya,daily_new_deaths_kenya, marker=\"o\", facecolors=\"blue\", alpha=0.75)\n",
    "plt.plot(daily_new_cases_kenya,regress_values,\"r-\")\n",
    "plt.annotate(line_eq,(600,2.5),fontsize=15, color=\"red\")\n",
    "plt.savefig(\"images/kenya_daily_cases_vs_deaths.png\")\n",
    "plt.show"
   ]
  },
  {
   "cell_type": "markdown",
   "id": "c4770011",
   "metadata": {},
   "source": [
    "The r-squared value is relatively low suggesting now strong correlation between variables."
   ]
  },
  {
   "cell_type": "markdown",
   "id": "49863b16",
   "metadata": {},
   "source": [
    "<h2> Looking into number of cases vs vaccination rate in Kenya and UK</h2>"
   ]
  },
  {
   "cell_type": "markdown",
   "id": "bc2de85a",
   "metadata": {},
   "source": [
    "<h3> Kenya vaccination analysis</h3>"
   ]
  },
  {
   "cell_type": "code",
   "execution_count": null,
   "id": "a64884f6",
   "metadata": {},
   "outputs": [],
   "source": [
    "#importing vaccination data set\n",
    "vaccine_data=pd.read_csv(\"data/country_vaccinations.csv\")\n",
    "#setting date to the format to enable merging\n",
    "vaccine_data[\"date\"]=pd.to_datetime(vaccine_data.date)\n",
    "covid_data[\"date\"]=pd.to_datetime(covid_data.date)"
   ]
  },
  {
   "cell_type": "code",
   "execution_count": null,
   "id": "9d8a6039",
   "metadata": {},
   "outputs": [],
   "source": [
    "#selecting data only relevant to Kenya\n",
    "kenya_vaccine=vaccine_data[vaccine_data[\"country\"]==\"Kenya\"]\n",
    "kenya_vaccine.to_csv(\"cleaned_data/Kenya_vaccination_data.csv\", index=False, header=True)\n",
    "kenya_covid=covid_data[covid_data[\"country\"]==\"Kenya\"]"
   ]
  },
  {
   "cell_type": "code",
   "execution_count": null,
   "id": "804dc581",
   "metadata": {},
   "outputs": [],
   "source": [
    "#merging two datasets for Kenya to display full dataframe of vaccination and covid cases\n",
    "kenya_merged=pd.merge(kenya_vaccine,kenya_covid, on=\"date\")\n",
    "kenya_merged=kenya_merged.dropna()\n",
    "kenya_merged.head()"
   ]
  },
  {
   "cell_type": "code",
   "execution_count": null,
   "id": "b4189b9a",
   "metadata": {},
   "outputs": [],
   "source": [
    "#scatter plot of daily cases vs daily vaccination in Kenya\n",
    "kenya_merged_vacc=kenya_merged[\"daily_vaccinations\"]\n",
    "kenya_merged_cases=kenya_merged[\"daily_new_cases\"]\n",
    "plt.scatter(kenya_merged_cases,kenya_merged_vacc, marker=\"o\", facecolors=\"blue\", alpha=0.75)\n",
    "plt.xlabel(\"Daily New Cases\")\n",
    "plt.ylabel(\"Daily Vaccinations\")\n",
    "plt.title(\"Daily new cases vs daily vaccination in Kenya\")"
   ]
  },
  {
   "cell_type": "code",
   "execution_count": null,
   "id": "e9eaea2c",
   "metadata": {},
   "outputs": [],
   "source": [
    "#adding linear regression to the scatter plot\n",
    "(slope, intercept, rvalue, pvalue, stderr) = linregress(kenya_merged_cases, kenya_merged_vacc)\n",
    "regress_values=kenya_merged_cases*slope+intercept\n",
    "line_eq= \"y = \" + str(round(slope,2)) + \"x + \" + str(round(intercept,2))\n",
    "print(f\"The r-squared is: {rvalue**2}\")\n",
    "plt.scatter(kenya_merged_cases,kenya_merged_vacc, marker=\"o\", facecolors=\"blue\", alpha=0.75)\n",
    "plt.plot(kenya_merged_cases,regress_values,\"r-\")\n",
    "plt.annotate(line_eq,(400,2500),fontsize=15, color=\"red\")\n",
    "plt.xlabel(\"Daily New Cases\")\n",
    "plt.ylabel(\"Daily Vaccinations\")\n",
    "plt.title(\"Daily new cases vs daily vaccination in Kenya\")\n",
    "plt.savefig(\"images/kenya_daily_cases_vs_vaccination.png\")\n",
    "plt.show"
   ]
  },
  {
   "cell_type": "code",
   "execution_count": null,
   "id": "ed6fbd69",
   "metadata": {},
   "outputs": [],
   "source": [
    "#creating scatter plot of vaccination over time\n",
    "kenya_time=kenya_merged[\"date\"]\n",
    "daily_vacc=kenya_merged[\"daily_vaccinations\"]\n",
    "plt.scatter(kenya_time, daily_vacc, marker=\"o\", facecolors=\"red\", edgecolors=\"black\",alpha=0.75)\n",
    "plt.xticks(rotation=45)\n",
    "plt.ylabel(\"Vaccination\")\n",
    "plt.title(\"Vaccination over time in Kenya\")\n",
    "plt.savefig(\"images/kenya_vaccination_over_time.png\")"
   ]
  },
  {
   "cell_type": "markdown",
   "id": "074a13b1",
   "metadata": {},
   "source": [
    "<h3> UK vaccination analysis</h3>"
   ]
  },
  {
   "cell_type": "code",
   "execution_count": null,
   "id": "738a82b8",
   "metadata": {},
   "outputs": [],
   "source": [
    "#vaccination dataset splits UK into constituent countries\n",
    "#extracting data for each country and merging in order to make the datasets correlating\n",
    "eng_vaccine=vaccine_data[vaccine_data[\"country\"]==\"England\"]\n",
    "eng_vaccine=eng_vaccine[[\"country\",\"date\",\"daily_vaccinations\"]]\n",
    "scot_vaccine=vaccine_data[vaccine_data[\"country\"]==\"Scotland\"]\n",
    "scot_vaccine=scot_vaccine[[\"country\",\"date\",\"daily_vaccinations\"]]\n",
    "wal_vaccine=vaccine_data[vaccine_data[\"country\"]==\"Wales\"]\n",
    "wal_vaccine=wal_vaccine[[\"country\",\"date\",\"daily_vaccinations\"]]\n",
    "irl_vaccine=vaccine_data[vaccine_data[\"country\"]==\"Northern Ireland\"]\n",
    "irl_vaccine=irl_vaccine[[\"country\",\"date\",\"daily_vaccinations\"]]\n",
    "uk_merged1=pd.merge(eng_vaccine,scot_vaccine,on=\"date\",how=\"outer\",suffixes=('1', '2'))\n",
    "uk_merged2=pd.merge(uk_merged1,wal_vaccine,on=\"date\",how=\"outer\",suffixes=('2', '3'))\n",
    "uk_merged3=pd.merge(uk_merged2,irl_vaccine,on=\"date\",how=\"outer\",suffixes=('3', '4'))\n",
    "uk_merged3=uk_merged3.fillna(value=0)\n",
    "uk_merged3.head()"
   ]
  },
  {
   "cell_type": "code",
   "execution_count": null,
   "id": "b39b83db",
   "metadata": {},
   "outputs": [],
   "source": [
    "#calculating the sum of daily vaccinations in each constituent countries\n",
    "#to find out th daily vaccination across the whole UK\n",
    "uk_daily_vacc=[]\n",
    "for row in uk_merged3:\n",
    "    daily_sum=uk_merged3[\"daily_vaccinations1\"]+uk_merged3[\"daily_vaccinations2\"]+uk_merged3[\"daily_vaccinations3\"]+uk_merged3[\"daily_vaccinations4\"]\n",
    "    uk_daily_vacc.append(daily_sum)\n",
    "uk_daily_vacc[0]"
   ]
  },
  {
   "cell_type": "code",
   "execution_count": null,
   "id": "f77feb1c",
   "metadata": {},
   "outputs": [],
   "source": [
    "#creating new data frame holding combined data for England, Wales, Scotland and Northern Ireland\n",
    "#calling it the UK dataset\n",
    "uk_vaccination_df=pd.DataFrame({\"country\":\"UK\",\n",
    "                                \"date\":uk_merged3[\"date\"],\n",
    "                               \"daily vaccinations\":uk_daily_vacc[0]})\n",
    "uk_vaccination_df.to_csv(\"cleaned_data/UK_vaccination_data.csv\", index=False, header=True)\n",
    "uk_vaccination_df.head()"
   ]
  },
  {
   "cell_type": "code",
   "execution_count": null,
   "id": "df8e78ee",
   "metadata": {},
   "outputs": [],
   "source": [
    "#extracting UK data from the covid dataset\n",
    "uk_covid=covid_data[covid_data[\"country\"]==\"UK\"]\n",
    "uk_covid=uk_covid[[\"date\",\"daily_new_cases\"]]"
   ]
  },
  {
   "cell_type": "code",
   "execution_count": null,
   "id": "641639ac",
   "metadata": {},
   "outputs": [],
   "source": [
    "#merging two datasets to display full dataframe of vaccination and covid cases across UK\n",
    "uk_combined=pd.merge(uk_vaccination_df,uk_covid, on=\"date\")\n",
    "uk_combined=uk_combined.dropna()\n",
    "uk_combined.head()"
   ]
  },
  {
   "cell_type": "code",
   "execution_count": null,
   "id": "e47f78ad",
   "metadata": {},
   "outputs": [],
   "source": [
    "#scatter plot of daily cases vs daily vaccination in UK\n",
    "uk_combined_vacc=uk_combined[\"daily vaccinations\"]\n",
    "uk_combined_cases=uk_combined[\"daily_new_cases\"]\n",
    "plt.scatter(uk_combined_cases,uk_combined_vacc, marker=\"o\", facecolors=\"blue\", alpha=0.75)\n",
    "plt.xlabel(\"Daily New Cases\")\n",
    "plt.ylabel(\"Daily Vaccinations\")\n",
    "plt.title(\"Daily new cases vs daily vaccination in UK\")"
   ]
  },
  {
   "cell_type": "code",
   "execution_count": null,
   "id": "7762adef",
   "metadata": {},
   "outputs": [],
   "source": [
    "#adding linear regression to the scatter plot\n",
    "(slope, intercept, rvalue, pvalue, stderr) = linregress(uk_combined_cases, uk_combined_vacc)\n",
    "regress_values=uk_combined_cases*slope+intercept\n",
    "line_eq= \"y = \" + str(round(slope,2)) + \"x + \" + str(round(intercept,2))\n",
    "print(f\"The r-squared is: {rvalue**2}\")\n",
    "plt.scatter(uk_combined_cases,uk_combined_vacc, marker=\"o\", facecolors=\"blue\", alpha=0.75)\n",
    "plt.plot(uk_combined_cases,regress_values,\"r-\")\n",
    "plt.annotate(line_eq,(1000,100000),fontsize=15, color=\"red\")\n",
    "plt.xlabel(\"Daily New Cases\")\n",
    "plt.ylabel(\"Daily Vaccinations\")\n",
    "plt.title(\"Daily new cases vs daily vaccination in UK\")\n",
    "plt.savefig(\"images/uk_daily_cases_vs_vaccination.png\")\n",
    "plt.show"
   ]
  },
  {
   "cell_type": "code",
   "execution_count": null,
   "id": "5167ec22",
   "metadata": {},
   "outputs": [],
   "source": [
    "#selecting every 7th row from the dataset to collect weekly data\n",
    "uk_combined_timeframe = uk_combined[uk_combined.index % 7== 0]"
   ]
  },
  {
   "cell_type": "code",
   "execution_count": null,
   "id": "7cffe6b1",
   "metadata": {},
   "outputs": [],
   "source": [
    "#creating scatter plot to display weekly vaccination progress in UK\n",
    "time_uk=uk_combined_timeframe[\"date\"]\n",
    "daily_Vacc=uk_combined_timeframe[\"daily vaccinations\"]\n",
    "plt.scatter(time_uk, daily_Vacc, marker=\"o\", facecolors=\"red\", edgecolors=\"black\",alpha=0.75)\n",
    "plt.xticks(rotation=45)\n",
    "plt.savefig(\"images/uk_vaccination_over_time.png\")"
   ]
  }
 ],
 "metadata": {
  "kernelspec": {
   "display_name": "Python 3",
   "language": "python",
   "name": "python3"
  },
  "language_info": {
   "codemirror_mode": {
    "name": "ipython",
    "version": 3
   },
   "file_extension": ".py",
   "mimetype": "text/x-python",
   "name": "python",
   "nbconvert_exporter": "python",
   "pygments_lexer": "ipython3",
   "version": "3.8.8"
  }
 },
 "nbformat": 4,
 "nbformat_minor": 5
}
