{
 "cells": [
  {
   "cell_type": "code",
   "execution_count": null,
   "id": "64ba2337",
   "metadata": {},
   "outputs": [],
   "source": [
    "#Adding dependecies\n",
    "import pandas as pd\n",
    "import matplotlib.pyplot as plt\n",
    "import numpy as np\n",
    "from config import g_key\n",
    "import pycountry\n",
    "import requests\n",
    "import json\n",
    "import gmaps"
   ]
  },
  {
   "cell_type": "code",
   "execution_count": null,
   "id": "c38862eb",
   "metadata": {},
   "outputs": [],
   "source": [
    "#importing data set\n",
    "covid_data=pd.read_csv(\"data/country_vaccinations.csv\")\n",
    "covid_data.head()"
   ]
  },
  {
   "cell_type": "code",
   "execution_count": null,
   "id": "869ef7f7",
   "metadata": {},
   "outputs": [],
   "source": [
    "# % of population in the data set is presented up to date\n",
    "#finding last value for each country, to find the most update value\n",
    "population_vacc=covid_data[[\"country\",\"people_fully_vaccinated_per_hundred\"]].drop_duplicates(subset=['country'], keep=\"last\")\n",
    "population_vacc.head()"
   ]
  },
  {
   "cell_type": "code",
   "execution_count": null,
   "id": "67272164",
   "metadata": {},
   "outputs": [],
   "source": [
    "#calulacting the sum of all people fully vaccinated in each country\n",
    "selected=covid_data[[\"country\",\"people_fully_vaccinated\"]].groupby([\"country\",]).sum()\n",
    "selected.head()"
   ]
  },
  {
   "cell_type": "code",
   "execution_count": null,
   "id": "6ba73c3b",
   "metadata": {},
   "outputs": [],
   "source": [
    "country_name=covid_data[\"country\"].unique()\n",
    "iso_code=covid_data[\"iso_code\"].unique()\n",
    "#Creating new data frame\n",
    "countries_summary=pd.DataFrame({\"Country\":country_name,\n",
    "                                \"ISO code\": iso_code,\n",
    "                              \"%  of population vaccinated\":population_vacc[\"people_fully_vaccinated_per_hundred\"]})\n",
    "countries_summary=countries_summary.set_index(\"Country\")\n",
    "countries_summary[\"Number of people fully vaccinated\"]=selected[\"people_fully_vaccinated\"]\n",
    "countries_summary.head()\n",
    "countries_summary.to_csv(\"Worldwide_vaccination_summary.csv\", index=True, header=True)"
   ]
  },
  {
   "cell_type": "code",
   "execution_count": null,
   "id": "f362a841",
   "metadata": {},
   "outputs": [],
   "source": [
    "#converting countries iso_code3 into iso_code alpha2\n",
    "countries = {}\n",
    "for country in pycountry.countries:\n",
    "    countries[country.alpha_3] = country.alpha_2\n",
    "\n",
    "iso_code2 = [countries.get(country, 'Unknown code') for country in iso_code]\n",
    "\n",
    "countries_summary[\"ISO code\"]=iso_code2\n",
    "countries_summary.head()"
   ]
  },
  {
   "cell_type": "code",
   "execution_count": null,
   "id": "27a981c9",
   "metadata": {},
   "outputs": [],
   "source": [
    "base_url=\"https://maps.googleapis.com/maps/api/geocode/json?\""
   ]
  },
  {
   "cell_type": "code",
   "execution_count": null,
   "id": "b8a56c08",
   "metadata": {},
   "outputs": [],
   "source": [
    "#creating google maps API call to find latitude and longitude for each country\n",
    "latitude=[]\n",
    "longtitude=[]\n",
    "for code in iso_code2:\n",
    "    try:\n",
    "        target_url=f\"{base_url}components=country:{code}&key={g_key}\"\n",
    "        location = requests.get(target_url).json()\n",
    "        latitude.append(location[\"results\"][0][\"geometry\"][\"location\"][\"lat\"])\n",
    "        longtitude.append(location[\"results\"][0][\"geometry\"][\"location\"][\"lng\"])\n",
    "#if country not found appending pd.NaT to make sure the latitude and longtitude lenghts are matching the lenght of data frame\n",
    "    except:\n",
    "        latitude.append(pd.NaT)\n",
    "        longtitude.append(pd.NaT)\n",
    "        print(\"Country code not found. Processing further...\")\n",
    "print(\"Data retrieval completed\")"
   ]
  },
  {
   "cell_type": "code",
   "execution_count": null,
   "id": "f4db75be",
   "metadata": {},
   "outputs": [],
   "source": [
    "#Adding locations to dataframe\n",
    "countries_summary[\"Latitude\"]=latitude\n",
    "countries_summary[\"Longtitude\"]=longtitude"
   ]
  },
  {
   "cell_type": "code",
   "execution_count": null,
   "id": "f98d8e06",
   "metadata": {},
   "outputs": [],
   "source": [
    "#Plotting the heatmap of Number of people fully vaccinated\n",
    "#Configure gmaps\n",
    "gmaps.configure(api_key=g_key)\n",
    "#Using the Lat and Lng as locations and Number of people fully vaccinated as the weight\n",
    "\n",
    "# Fill NaN values and convert to float\n",
    "countries=countries_summary.dropna(subset=[\"Latitude\"])\n",
    "countries.head()"
   ]
  },
  {
   "cell_type": "code",
   "execution_count": null,
   "id": "3c012b1a",
   "metadata": {},
   "outputs": [],
   "source": [
    "loc=countries[[\"Latitude\",\"Longtitude\"]]"
   ]
  },
  {
   "cell_type": "code",
   "execution_count": null,
   "id": "2963bb78",
   "metadata": {},
   "outputs": [],
   "source": [
    "people_vacc=countries[\"Number of people fully vaccinated\"].astype(float)"
   ]
  },
  {
   "cell_type": "code",
   "execution_count": null,
   "id": "986d8341",
   "metadata": {},
   "outputs": [],
   "source": [
    "# Plot Heatmap\n",
    "fig = gmaps.figure()\n",
    "heatmap_layer = gmaps.heatmap_layer(loc,weights=people_vacc)\n",
    "fig.add_layer(heatmap_layer)\n",
    "fig"
   ]
  }
 ],
 "metadata": {
  "kernelspec": {
   "display_name": "Python 3",
   "language": "python",
   "name": "python3"
  },
  "language_info": {
   "codemirror_mode": {
    "name": "ipython",
    "version": 3
   },
   "file_extension": ".py",
   "mimetype": "text/x-python",
   "name": "python",
   "nbconvert_exporter": "python",
   "pygments_lexer": "ipython3",
   "version": "3.8.8"
  }
 },
 "nbformat": 4,
 "nbformat_minor": 5
}
