{
 "cells": [
  {
   "cell_type": "code",
   "execution_count": null,
   "id": "64ba2337",
   "metadata": {},
   "outputs": [],
   "source": [
    "import pandas as pd\n",
    "import matplotlib.pyplot as plt\n",
    "import numpy as np"
   ]
  },
  {
   "cell_type": "code",
   "execution_count": null,
   "id": "c38862eb",
   "metadata": {},
   "outputs": [],
   "source": [
    "covid_data=pd.read_csv(\"data/country_vaccinations.csv\")\n",
    "covid_data.head()"
   ]
  },
  {
   "cell_type": "code",
   "execution_count": null,
   "id": "67272164",
   "metadata": {},
   "outputs": [],
   "source": [
    "selected=covid_data[[\"country\",\"iso_code\",\"people_fully_vaccinated\"]]\n",
    "selected.groupby([\"country\",\"iso_code\"]).sum().head()"
   ]
  }
 ],
 "metadata": {
  "kernelspec": {
   "display_name": "Python 3",
   "language": "python",
   "name": "python3"
  },
  "language_info": {
   "codemirror_mode": {
    "name": "ipython",
    "version": 3
   },
   "file_extension": ".py",
   "mimetype": "text/x-python",
   "name": "python",
   "nbconvert_exporter": "python",
   "pygments_lexer": "ipython3",
   "version": "3.8.8"
  }
 },
 "nbformat": 4,
 "nbformat_minor": 5
}
