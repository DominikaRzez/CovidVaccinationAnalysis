{
 "cells": [
  {
   "cell_type": "code",
   "execution_count": null,
   "id": "64ba2337",
   "metadata": {},
   "outputs": [],
   "source": [
    "#Adding dependecies\n",
    "import pandas as pd\n",
    "import matplotlib.pyplot as plt\n",
    "import numpy as np\n",
    "from config import g_key\n",
    "import pycountry\n",
    "import requests\n",
    "import json\n",
    "import gmaps"
   ]
  },
  {
   "cell_type": "code",
   "execution_count": null,
   "id": "c38862eb",
   "metadata": {},
   "outputs": [],
   "source": [
    "#importing data set\n",
    "covid_data=pd.read_csv(\"data/country_vaccinations.csv\")\n",
    "covid_data.head()"
   ]
  },
  {
   "cell_type": "code",
   "execution_count": null,
   "id": "869ef7f7",
   "metadata": {},
   "outputs": [],
   "source": [
    "# % of population in the data set is presented up to date\n",
    "#finding last value for each country, to find the most update value\n",
    "population_vacc=covid_data[[\"country\",\"people_fully_vaccinated_per_hundred\"]].drop_duplicates(subset=['country'], keep=\"last\")\n",
    "population_vacc.head()"
   ]
  },
  {
   "cell_type": "code",
   "execution_count": null,
   "id": "67272164",
   "metadata": {},
   "outputs": [],
   "source": [
    "#calulacting the sum of all people fully vaccinated in each country\n",
    "fully_vacc=covid_data[[\"country\",\"people_fully_vaccinated\"]].drop_duplicates(subset=['country'], keep=\"last\")\n",
    "fully_vacc.head()"
   ]
  },
  {
   "cell_type": "code",
   "execution_count": null,
   "id": "6ba73c3b",
   "metadata": {},
   "outputs": [],
   "source": [
    "country_name=covid_data[\"country\"].unique()\n",
    "iso_code=covid_data[\"iso_code\"].unique()\n",
    "#Creating new data frame\n",
    "countries_summary=pd.DataFrame({\"Country\":country_name,\n",
    "                                \"ISO code\": iso_code,\n",
    "                              \"Population vaccinated\":population_vacc[\"people_fully_vaccinated_per_hundred\"]})\n",
    "countries_summary[\"Number of people fully vaccinated\"]=fully_vacc[\"people_fully_vaccinated\"]\n",
    "countries_summary.head()"
   ]
  },
  {
   "cell_type": "code",
   "execution_count": null,
   "id": "f362a841",
   "metadata": {},
   "outputs": [],
   "source": [
    "#converting countries iso_code3 into iso_code alpha2\n",
    "countries = {}\n",
    "for country in pycountry.countries:\n",
    "    countries[country.alpha_3] = country.alpha_2\n",
    "\n",
    "iso_code2 = [countries.get(country, 'Unknown code') for country in iso_code]\n",
    "\n",
    "countries_summary[\"ISO code\"]=iso_code2\n",
    "countries_summary.to_csv(\"Worldwide_vaccination_summary.csv\", index=False, header=True)\n",
    "countries_summary.head()"
   ]
  },
  {
   "cell_type": "code",
   "execution_count": null,
   "id": "b8a56c08",
   "metadata": {},
   "outputs": [],
   "source": [
    "base_url=\"https://maps.googleapis.com/maps/api/geocode/json?\"\n",
    "#creating google maps API call to find latitude and longitude for each country\n",
    "latitude=[]\n",
    "longtitude=[]\n",
    "for code in iso_code2:\n",
    "    try:\n",
    "        target_url=f\"{base_url}components=country:{code}&key={g_key}\"\n",
    "        location = requests.get(target_url).json()\n",
    "        latitude.append(location[\"results\"][0][\"geometry\"][\"location\"][\"lat\"])\n",
    "        longtitude.append(location[\"results\"][0][\"geometry\"][\"location\"][\"lng\"])\n",
    "#if country not found appending pd.NaT to make sure the latitude and longtitude lenghts are matching the lenght of data frame\n",
    "    except:\n",
    "        latitude.append(pd.NaT)\n",
    "        longtitude.append(pd.NaT)\n",
    "        print(\"Country code not found. Processing further...\")\n",
    "print(\"Data retrieval completed\")"
   ]
  },
  {
   "cell_type": "code",
   "execution_count": null,
   "id": "f98d8e06",
   "metadata": {},
   "outputs": [],
   "source": [
    "#Adding locations to dataframe\n",
    "countries_summary[\"Latitude\"]=latitude\n",
    "countries_summary[\"Longtitude\"]=longtitude\n",
    "\n",
    "# Skipping NaN values\n",
    "countries=countries_summary.dropna(subset=[\"Latitude\"])\n",
    "countries.head()"
   ]
  },
  {
   "cell_type": "markdown",
   "id": "0789944a",
   "metadata": {},
   "source": [
    "<h2>Heatmap of Number of people fully vaccinated worldwide</h2>"
   ]
  },
  {
   "cell_type": "code",
   "execution_count": null,
   "id": "2983a057",
   "metadata": {
    "scrolled": true
   },
   "outputs": [],
   "source": [
    "loc=countries[[\"Latitude\",\"Longtitude\"]]\n",
    "people_vacc=countries[\"Number of people fully vaccinated\"].astype(float)\n",
    "#Plotting the heatmap of Number of people fully vaccinated\n",
    "#Configure gmaps\n",
    "gmaps.configure(api_key=g_key)\n",
    "#Using the Lat and Lng as locations and Number of people fully vaccinated as the weight\n",
    "fig = gmaps.figure()\n",
    "# Create heat layer\n",
    "heat_layer = gmaps.heatmap_layer(loc,weights=people_vacc, max_intensity=100000, point_radius=7)\n",
    "\n",
    "# Creating symbol layer\n",
    "vacc_layer = gmaps.symbol_layer(\n",
    "    loc, fill_color='rgba(0, 150, 0, 0.4)',\n",
    "    stroke_color='rgba(0, 0, 150, 0.4)', scale=3,\n",
    "    info_box_content=[f\"Number of people fully vaccinated: {vacc}\" for vacc in people_vacc]\n",
    ")\n",
    "\n",
    "\n",
    "# Add layers\n",
    "fig.add_layer(heat_layer)\n",
    "fig.add_layer(vacc_layer)\n",
    "# Display figure\n",
    "fig"
   ]
  },
  {
   "cell_type": "markdown",
   "id": "baf20ebe",
   "metadata": {},
   "source": [
    "<h2> Heatmap of % of population fully vaccinated worldwide <h2>"
   ]
  },
  {
   "cell_type": "code",
   "execution_count": null,
   "id": "1a85c7a1",
   "metadata": {},
   "outputs": [],
   "source": [
    "loc=countries[[\"Latitude\",\"Longtitude\"]]\n",
    "population_vacc=countries[\"Population vaccinated\"].astype(float)\n",
    "#Plotting the heatmap of Number of people fully vaccinated\n",
    "#Configure gmaps\n",
    "gmaps.configure(api_key=g_key)\n",
    "#Using the Lat and Lng as locations and Number of people fully vaccinated as the weight\n",
    "fig = gmaps.figure()\n",
    "# Create heat layer\n",
    "heat_layer = gmaps.heatmap_layer(loc,weights=population_vacc, max_intensity=100, point_radius=12)\n",
    "\n",
    "# Add layer\n",
    "fig.add_layer(heat_layer)\n",
    "# Display figure\n",
    "fig"
   ]
  },
  {
   "cell_type": "code",
   "execution_count": null,
   "id": "986d8341",
   "metadata": {},
   "outputs": [],
   "source": [
    "# Creating symbol layer\n",
    "pop_vacc_layer = gmaps.symbol_layer(\n",
    "    loc,  fill_color='rgba(0, 150, 0, 0.1)',\n",
    "    stroke_color='rgba(0, 0, 150, 0.1)',scale=1,\n",
    "    info_box_content=[f\"Percentage of population that is fully vaccinated: {vacc}\" for vacc in population_vacc]\n",
    ")\n",
    "# Add layers\n",
    "fig.add_layer(heat_layer)\n",
    "fig.add_layer(pop_vacc_layer)\n",
    "# Display figure\n",
    "fig"
   ]
  }
 ],
 "metadata": {
  "kernelspec": {
   "display_name": "Python 3",
   "language": "python",
   "name": "python3"
  },
  "language_info": {
   "codemirror_mode": {
    "name": "ipython",
    "version": 3
   },
   "file_extension": ".py",
   "mimetype": "text/x-python",
   "name": "python",
   "nbconvert_exporter": "python",
   "pygments_lexer": "ipython3",
   "version": "3.8.8"
  }
 },
 "nbformat": 4,
 "nbformat_minor": 5
}
